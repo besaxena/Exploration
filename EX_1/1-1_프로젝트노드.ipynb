{
 "cells": [
  {
   "cell_type": "markdown",
   "id": "54ac5b55",
   "metadata": {},
   "source": [
    "# (1) Load Data"
   ]
  },
  {
   "cell_type": "code",
   "execution_count": 1,
   "id": "494388a7",
   "metadata": {},
   "outputs": [],
   "source": [
    "from sklearn.datasets import load_diabetes\n",
    "\n",
    "diabetes = load_diabetes()"
   ]
  },
  {
   "cell_type": "code",
   "execution_count": 8,
   "id": "68988f75",
   "metadata": {},
   "outputs": [],
   "source": [
    "import numpy as np"
   ]
  },
  {
   "cell_type": "code",
   "execution_count": 4,
   "id": "d9a12a75",
   "metadata": {},
   "outputs": [],
   "source": [
    "df_X = diabetes.data\n",
    "df_y = diabetes.target #Target seems to be numeric float"
   ]
  },
  {
   "cell_type": "code",
   "execution_count": 5,
   "id": "83605f8a",
   "metadata": {},
   "outputs": [
    {
     "data": {
      "text/plain": [
       "((442, 10), (442,))"
      ]
     },
     "execution_count": 5,
     "metadata": {},
     "output_type": "execute_result"
    }
   ],
   "source": [
    "df_X.shape, df_y.shape # There are 10 features with the N= 442. "
   ]
  },
  {
   "cell_type": "code",
   "execution_count": 9,
   "id": "76622f9f",
   "metadata": {},
   "outputs": [
    {
     "data": {
      "text/plain": [
       "152.13348416289594"
      ]
     },
     "execution_count": 9,
     "metadata": {},
     "output_type": "execute_result"
    }
   ],
   "source": [
    "np.mean(df_y)"
   ]
  },
  {
   "cell_type": "markdown",
   "id": "8e26750c",
   "metadata": {},
   "source": [
    "# (2) Prepare X"
   ]
  },
  {
   "cell_type": "code",
   "execution_count": 10,
   "id": "64ed8573",
   "metadata": {},
   "outputs": [
    {
     "name": "stdout",
     "output_type": "stream",
     "text": [
      "df_X is a float64 where data structure is <class 'numpy.ndarray'>\n"
     ]
    }
   ],
   "source": [
    "print(f\"df_X is a {df_X.dtype} where data structure is {type(df_X)}\")"
   ]
  },
  {
   "cell_type": "code",
   "execution_count": 17,
   "id": "ddb2fea7",
   "metadata": {},
   "outputs": [],
   "source": [
    "X = np.array(df_X)"
   ]
  },
  {
   "cell_type": "code",
   "execution_count": 13,
   "id": "34646497",
   "metadata": {
    "scrolled": true
   },
   "outputs": [
    {
     "data": {
      "text/plain": [
       "array([[ 0.03807591,  0.05068012,  0.06169621,  0.02187235, -0.0442235 ,\n",
       "        -0.03482076, -0.04340085, -0.00259226,  0.01990842, -0.01764613],\n",
       "       [-0.00188202, -0.04464164, -0.05147406, -0.02632783, -0.00844872,\n",
       "        -0.01916334,  0.07441156, -0.03949338, -0.06832974, -0.09220405],\n",
       "       [ 0.08529891,  0.05068012,  0.04445121, -0.00567061, -0.04559945,\n",
       "        -0.03419447, -0.03235593, -0.00259226,  0.00286377, -0.02593034],\n",
       "       [-0.08906294, -0.04464164, -0.01159501, -0.03665645,  0.01219057,\n",
       "         0.02499059, -0.03603757,  0.03430886,  0.02269202, -0.00936191],\n",
       "       [ 0.00538306, -0.04464164, -0.03638469,  0.02187235,  0.00393485,\n",
       "         0.01559614,  0.00814208, -0.00259226, -0.03199144, -0.04664087],\n",
       "       [-0.09269548, -0.04464164, -0.04069594, -0.01944209, -0.06899065,\n",
       "        -0.07928784,  0.04127682, -0.0763945 , -0.04118039, -0.09634616],\n",
       "       [-0.04547248,  0.05068012, -0.04716281, -0.01599922, -0.04009564,\n",
       "        -0.02480001,  0.00077881, -0.03949338, -0.06291295, -0.03835666],\n",
       "       [ 0.06350368,  0.05068012, -0.00189471,  0.06662967,  0.09061988,\n",
       "         0.10891438,  0.02286863,  0.01770335, -0.03581673,  0.00306441],\n",
       "       [ 0.04170844,  0.05068012,  0.06169621, -0.04009932, -0.01395254,\n",
       "         0.00620169, -0.02867429, -0.00259226, -0.01495648,  0.01134862],\n",
       "       [-0.07090025, -0.04464164,  0.03906215, -0.03321358, -0.01257658,\n",
       "        -0.03450761, -0.02499266, -0.00259226,  0.06773633, -0.01350402]])"
      ]
     },
     "execution_count": 13,
     "metadata": {},
     "output_type": "execute_result"
    }
   ],
   "source": [
    "df_X[:10,:10]"
   ]
  },
  {
   "cell_type": "code",
   "execution_count": 18,
   "id": "ed5dd1b4",
   "metadata": {},
   "outputs": [
    {
     "data": {
      "text/plain": [
       "array([[ 0.03807591,  0.05068012,  0.06169621,  0.02187235, -0.0442235 ,\n",
       "        -0.03482076, -0.04340085, -0.00259226,  0.01990842, -0.01764613],\n",
       "       [-0.00188202, -0.04464164, -0.05147406, -0.02632783, -0.00844872,\n",
       "        -0.01916334,  0.07441156, -0.03949338, -0.06832974, -0.09220405],\n",
       "       [ 0.08529891,  0.05068012,  0.04445121, -0.00567061, -0.04559945,\n",
       "        -0.03419447, -0.03235593, -0.00259226,  0.00286377, -0.02593034],\n",
       "       [-0.08906294, -0.04464164, -0.01159501, -0.03665645,  0.01219057,\n",
       "         0.02499059, -0.03603757,  0.03430886,  0.02269202, -0.00936191],\n",
       "       [ 0.00538306, -0.04464164, -0.03638469,  0.02187235,  0.00393485,\n",
       "         0.01559614,  0.00814208, -0.00259226, -0.03199144, -0.04664087],\n",
       "       [-0.09269548, -0.04464164, -0.04069594, -0.01944209, -0.06899065,\n",
       "        -0.07928784,  0.04127682, -0.0763945 , -0.04118039, -0.09634616],\n",
       "       [-0.04547248,  0.05068012, -0.04716281, -0.01599922, -0.04009564,\n",
       "        -0.02480001,  0.00077881, -0.03949338, -0.06291295, -0.03835666],\n",
       "       [ 0.06350368,  0.05068012, -0.00189471,  0.06662967,  0.09061988,\n",
       "         0.10891438,  0.02286863,  0.01770335, -0.03581673,  0.00306441],\n",
       "       [ 0.04170844,  0.05068012,  0.06169621, -0.04009932, -0.01395254,\n",
       "         0.00620169, -0.02867429, -0.00259226, -0.01495648,  0.01134862],\n",
       "       [-0.07090025, -0.04464164,  0.03906215, -0.03321358, -0.01257658,\n",
       "        -0.03450761, -0.02499266, -0.00259226,  0.06773633, -0.01350402]])"
      ]
     },
     "execution_count": 18,
     "metadata": {},
     "output_type": "execute_result"
    }
   ],
   "source": [
    "X[:10, :10]"
   ]
  },
  {
   "cell_type": "markdown",
   "id": "d3954830",
   "metadata": {},
   "source": [
    "# (3) Prepare y"
   ]
  },
  {
   "cell_type": "code",
   "execution_count": 15,
   "id": "7c5cb70e",
   "metadata": {},
   "outputs": [
    {
     "name": "stdout",
     "output_type": "stream",
     "text": [
      "df_y is a float64 where data structure is <class 'numpy.ndarray'>\n"
     ]
    }
   ],
   "source": [
    "print(f\"df_y is a {df_y.dtype} where data structure is {type(df_y)}\")"
   ]
  },
  {
   "cell_type": "code",
   "execution_count": 19,
   "id": "222615f7",
   "metadata": {},
   "outputs": [],
   "source": [
    "y = np.array(df_y)"
   ]
  },
  {
   "cell_type": "markdown",
   "id": "f83d1981",
   "metadata": {},
   "source": [
    "# (4) split train, test"
   ]
  },
  {
   "cell_type": "code",
   "execution_count": 20,
   "id": "b96547b7",
   "metadata": {},
   "outputs": [],
   "source": [
    "from sklearn.model_selection import train_test_split"
   ]
  },
  {
   "cell_type": "code",
   "execution_count": 21,
   "id": "23162bc9",
   "metadata": {},
   "outputs": [],
   "source": [
    "tr_X, ts_X, tr_y, ts_y = train_test_split(X, y, test_size=0.23, random_state = 926) # train X test X train y test Y order"
   ]
  },
  {
   "cell_type": "markdown",
   "id": "7c7bb5d4",
   "metadata": {},
   "source": [
    "# (5) Prepare Model"
   ]
  },
  {
   "cell_type": "code",
   "execution_count": 22,
   "id": "eaeceb76",
   "metadata": {},
   "outputs": [
    {
     "name": "stdout",
     "output_type": "stream",
     "text": [
      "X has a shape of (442, 10)\n"
     ]
    }
   ],
   "source": [
    "print(f\"X has a shape of {X.shape}\")"
   ]
  },
  {
   "cell_type": "code",
   "execution_count": 23,
   "id": "dadd5e5f",
   "metadata": {},
   "outputs": [
    {
     "name": "stdout",
     "output_type": "stream",
     "text": [
      "(10,) (1,)\n"
     ]
    }
   ],
   "source": [
    "import numpy as np\n",
    "# initialize the weight and bias\n",
    "W = np.random.rand(df_X.shape[1]) #weight has a length of feature vectores\n",
    "b = np.random.rand(1) # bias term = 1\n",
    "\n",
    "print(W.shape, b.shape)"
   ]
  },
  {
   "cell_type": "code",
   "execution_count": 24,
   "id": "a0974084",
   "metadata": {},
   "outputs": [],
   "source": [
    "def model(X, W, b):\n",
    "    # initialize the prediction\n",
    "    predictions = 0\n",
    "    for i in range(W.shape[0]):\n",
    "        predictions += X[:, i] * W[i]\n",
    "    predictions += b\n",
    "    return predictions"
   ]
  },
  {
   "cell_type": "code",
   "execution_count": 26,
   "id": "b857eaf2",
   "metadata": {},
   "outputs": [
    {
     "data": {
      "text/plain": [
       "(442,)"
      ]
     },
     "execution_count": 26,
     "metadata": {},
     "output_type": "execute_result"
    }
   ],
   "source": [
    "model(X, W, b).shape"
   ]
  },
  {
   "cell_type": "markdown",
   "id": "a998e44a",
   "metadata": {},
   "source": [
    "# (6) Define loss func"
   ]
  },
  {
   "cell_type": "code",
   "execution_count": 27,
   "id": "564cbffe",
   "metadata": {},
   "outputs": [],
   "source": [
    "def MSE(a, b):\n",
    "    mse = ((a - b) ** 2).mean()  # averaging difference between two values\n",
    "    return mse"
   ]
  },
  {
   "cell_type": "code",
   "execution_count": 28,
   "id": "076833b4",
   "metadata": {},
   "outputs": [],
   "source": [
    "def loss(X, W, b, y):\n",
    "    predictions = model(X, W, b)\n",
    "    L = MSE(predictions, y)\n",
    "    return L"
   ]
  },
  {
   "cell_type": "markdown",
   "id": "3fd596d2",
   "metadata": {},
   "source": [
    "# (7) Define gradient func"
   ]
  },
  {
   "cell_type": "code",
   "execution_count": 29,
   "id": "c1867ffe",
   "metadata": {},
   "outputs": [],
   "source": [
    "def gradient(X, W, b, y):\n",
    "    # N: Number of data\n",
    "    N = len(y)\n",
    "    \n",
    "    # Calculate y_pred\n",
    "    y_pred = model(X, W, b)\n",
    "    \n",
    "    # Calculate the gradient \n",
    "    dW = 1/N * 2 * X.T.dot(y_pred - y)\n",
    "        \n",
    "    # Calculate the gradient of the bias\n",
    "    db = 2 * (y_pred - y).mean()\n",
    "    return dW, db"
   ]
  },
  {
   "cell_type": "code",
   "execution_count": 30,
   "id": "0b575d30",
   "metadata": {},
   "outputs": [
    {
     "data": {
      "text/plain": [
       "((10,), ())"
      ]
     },
     "execution_count": 30,
     "metadata": {},
     "output_type": "execute_result"
    }
   ],
   "source": [
    "dW, db = gradient(df_X, W, b, df_y)\n",
    "dW.shape, db.shape"
   ]
  },
  {
   "cell_type": "markdown",
   "id": "9c96772a",
   "metadata": {},
   "source": [
    "# (8) Set hyperparameter"
   ]
  },
  {
   "cell_type": "code",
   "execution_count": 35,
   "id": "38a096c3",
   "metadata": {},
   "outputs": [],
   "source": [
    "LEARNING_RATE = 0.1"
   ]
  },
  {
   "cell_type": "markdown",
   "id": "92280156",
   "metadata": {},
   "source": [
    "# (9) Train model"
   ]
  },
  {
   "cell_type": "code",
   "execution_count": 36,
   "id": "c25a846f",
   "metadata": {
    "scrolled": true
   },
   "outputs": [
    {
     "name": "stdout",
     "output_type": "stream",
     "text": [
      "Iteration 1000 : Loss 3444.0719\n",
      "Iteration 2000 : Loss 3155.1671\n",
      "Iteration 3000 : Loss 3057.4937\n",
      "Iteration 4000 : Loss 3019.1677\n",
      "Iteration 5000 : Loss 3003.1342\n",
      "Iteration 6000 : Loss 2995.9011\n",
      "Iteration 7000 : Loss 2992.2790\n",
      "Iteration 8000 : Loss 2990.2049\n",
      "Iteration 9000 : Loss 2988.8316\n"
     ]
    }
   ],
   "source": [
    "losses = []\n",
    "\n",
    "for i in range(1, 10000):\n",
    "    dW, db = gradient(tr_X, W, b, tr_y) # get the gradient\n",
    "    W -= LEARNING_RATE * dW #update weight based on the learning rate \n",
    "    b -= LEARNING_RATE * db #update bias based onthe learning rate\n",
    "    L = loss(tr_X, W, b, tr_y) #calculate the loss\n",
    "    losses.append(L)\n",
    "    if i % 1000 == 0:\n",
    "        print('Iteration %d : Loss %0.4f' % (i, L))"
   ]
  },
  {
   "cell_type": "code",
   "execution_count": 37,
   "id": "4ca1cfc6",
   "metadata": {},
   "outputs": [
    {
     "data": {
      "image/png": "[encoded data removed]",
      "text/plain": [
       "<Figure size 432x288 with 1 Axes>"
      ]
     },
     "metadata": {
      "needs_background": "light"
     },
     "output_type": "display_data"
    }
   ],
   "source": [
    "import matplotlib.pyplot as plt\n",
    "plt.plot(losses)\n",
    "plt.show()"
   ]
  },
  {
   "cell_type": "markdown",
   "id": "c1ee1cd2",
   "metadata": {},
   "source": [
    "# (10) test 데이터에 대한 성능 확인하기"
   ]
  },
  {
   "cell_type": "code",
   "execution_count": 38,
   "id": "41d996ca",
   "metadata": {
    "scrolled": true
   },
   "outputs": [
    {
     "data": {
      "text/plain": [
       "2594.562777831541"
      ]
     },
     "execution_count": 38,
     "metadata": {},
     "output_type": "execute_result"
    }
   ],
   "source": [
    "predictions = model(ts_X, W, b)\n",
    "L = MSE(predictions, ts_y)\n",
    "L"
   ]
  },
  {
   "cell_type": "markdown",
   "id": "8df55a31",
   "metadata": {},
   "source": [
    "# (11) 정답 데이터와 예측한 데이터 시각화하기"
   ]
  },
  {
   "cell_type": "code",
   "execution_count": 39,
   "id": "d481f00e",
   "metadata": {},
   "outputs": [
    {
     "data": {
      "image/png": "[encoded data removed]",
      "text/plain": [
       "<Figure size 432x288 with 1 Axes>"
      ]
     },
     "metadata": {
      "needs_background": "light"
     },
     "output_type": "display_data"
    }
   ],
   "source": [
    "plt.scatter(ts_X[:, 0], ts_y, label='true')\n",
    "plt.scatter(ts_X[:, 0], predictions, label='pred')\n",
    "plt.legend()\n",
    "plt.show()"
   ]
  }
 ],
 "metadata": {
  "kernelspec": {
   "display_name": "Python 3 (ipykernel)",
   "language": "python",
   "name": "python3"
  },
  "language_info": {
   "codemirror_mode": {
    "name": "ipython",
    "version": 3
   },
   "file_extension": ".py",
   "mimetype": "text/x-python",
   "name": "python",
   "nbconvert_exporter": "python",
   "pygments_lexer": "ipython3",
   "version": "3.9.7"
  }
 },
 "nbformat": 4,
 "nbformat_minor": 5
}
